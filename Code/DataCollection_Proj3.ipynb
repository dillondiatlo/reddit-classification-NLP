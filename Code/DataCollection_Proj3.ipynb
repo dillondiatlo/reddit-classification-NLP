{
 "cells": [
  {
   "cell_type": "markdown",
   "id": "a6abb5ac-f95e-4556-a6ac-483a7d303d29",
   "metadata": {},
   "source": [
    "# Project 3: Reddit\n",
    "\n",
    "\n",
    "Problem Statement: Build an NLP that can accurately predict if a post is from subreddit r/swimming or r/running. Evaluate the data's sentiment and determine which sub-group of athletes is happier, as well as the top 10 words/concerns respective subgroups are using most (could frame as how to speak to a swimmer or runner)."
   ]
  },
  {
   "cell_type": "code",
   "execution_count": 36,
   "id": "d4bd5624-ef69-40f3-8604-427c1f47e28e",
   "metadata": {
    "tags": []
   },
   "outputs": [],
   "source": [
    "import pandas as pd\n",
    "import numpy as np\n",
    "import praw\n",
    "import SecretStuff\n",
    "import requests\n",
    "from bs4 import BeautifulSoup\n",
    "\n",
    "from SecretStuff import *"
   ]
  },
  {
   "cell_type": "code",
   "execution_count": 37,
   "id": "95e09ca1-e707-4456-a3ae-899ffa3c7fa9",
   "metadata": {
    "tags": []
   },
   "outputs": [],
   "source": [
    "reddit = praw.Reddit(\n",
    "    client_id=client_id,\n",
    "    client_secret=client_secret,\n",
    "    user_agent=user_agent,\n",
    "    username=username,\n",
    "    password=password\n",
    ")"
   ]
  },
  {
   "cell_type": "markdown",
   "id": "7e7f6d82-1637-4e5c-b0da-f7f1f2acd60a",
   "metadata": {},
   "source": [
    "# Step 1: Data Collection\n",
    "\n",
    "Using Reddit's API, I will collect data from the 2 subreddits: r/Swimming and r/running"
   ]
  },
  {
   "cell_type": "code",
   "execution_count": 38,
   "id": "58fad69a-e42d-495c-b797-19d87eebfe88",
   "metadata": {
    "tags": []
   },
   "outputs": [],
   "source": [
    "#run 1st to empty the list\n",
    "swim_list = []\n",
    "run_list = []"
   ]
  },
  {
   "cell_type": "code",
   "execution_count": 46,
   "id": "731da851-7f62-4875-b093-185be486bf03",
   "metadata": {
    "tags": []
   },
   "outputs": [],
   "source": [
    "#run 2nd to get all the data from subreddits and append to list\n",
    "swim = reddit.subreddit('Swimming')\n",
    "run = reddit.subreddit('running')\n",
    "\n",
    "posts_swim = swim.new(limit=1000)\n",
    "posts_run = run.new(limit=1000)\n",
    "\n",
    "for post in posts_swim:\n",
    "    swim_list.append([post.created_utc, post.title, post.selftext, post.subreddit])\n",
    "    \n",
    "for post in posts_run:\n",
    "    run_list.append([post.created_utc, post.title, post.selftext, post.subreddit])"
   ]
  },
  {
   "cell_type": "code",
   "execution_count": 40,
   "id": "473624a4-977f-4a48-ad74-91479c4d13b0",
   "metadata": {
    "tags": []
   },
   "outputs": [
    {
     "data": {
      "text/plain": [
       "989"
      ]
     },
     "execution_count": 40,
     "metadata": {},
     "output_type": "execute_result"
    }
   ],
   "source": [
    "len(swim_list)\n",
    "len(run_list)"
   ]
  },
  {
   "cell_type": "code",
   "execution_count": 49,
   "id": "e2b35098-76cf-4581-8dd3-f8ab901f992f",
   "metadata": {
    "tags": []
   },
   "outputs": [
    {
     "name": "stdout",
     "output_type": "stream",
     "text": [
      "                 0                                                  1  \\\n",
      "0     1.575963e+09  Just recently, I managed to be selected to com...   \n",
      "1     1.552749e+09                         Don't do Underwaters Alone   \n",
      "2     1.627700e+09   I feel her pain and frustration deep in my soul.   \n",
      "3     1.568157e+09              They’re called anti-fog for a reason!   \n",
      "4     1.627619e+09  Tatjana Schoenmaker of South Africa realizing ...   \n",
      "...            ...                                                ...   \n",
      "1939  1.706304e+09                                        New Swimmer   \n",
      "1940  1.706296e+09                    500 freestyle training programs   \n",
      "1941  1.706289e+09                          Dryland exercises for abs   \n",
      "1942  1.706286e+09                                    Swimming 200 IM   \n",
      "1943  1.706285e+09                               Music while swimming   \n",
      "\n",
      "                                                      2         3  \n",
      "0                                                        Swimming  \n",
      "1     I'm a paramedic.\\n\\nLast night, on duty, we we...  Swimming  \n",
      "2                                                        Swimming  \n",
      "3                                                        Swimming  \n",
      "4                                                        Swimming  \n",
      "...                                                 ...       ...  \n",
      "1939  Hello,\\n\\nI just started swimming 3 months ago...  Swimming  \n",
      "1940  Hello everyone, I'm pretty new to swimming (1....  Swimming  \n",
      "1941  My abs are not very strong and I find that swi...  Swimming  \n",
      "1942  I have never swam 200 IM before and im swimmin...  Swimming  \n",
      "1943  Other than the classic waterproof speaker I ha...  Swimming  \n",
      "\n",
      "[1935 rows x 4 columns]\n",
      "(1935, 4)\n",
      "(1935, 4)\n"
     ]
    }
   ],
   "source": [
    "swim_df = pd.DataFrame(swim_list)\n",
    "run_df = pd.DataFrame(run_list)\n",
    "swim_df.drop_duplicates(inplace=True)\n",
    "run_df.drop_duplicates(inplace=True)\n",
    "print(swim_df.shape)\n",
    "print(run_df.shape)"
   ]
  },
  {
   "cell_type": "code",
   "execution_count": 48,
   "id": "9bfb0e7c-49f4-41f1-9eb2-01fbb28c3d32",
   "metadata": {
    "tags": []
   },
   "outputs": [],
   "source": [
    "swim_df.to_csv('testswim feb 27.csv', index=False)\n",
    "run_df.to_csv('testrun feb 27.csv', index=False)"
   ]
  }
 ],
 "metadata": {
  "kernelspec": {
   "display_name": "Python 3 (ipykernel)",
   "language": "python",
   "name": "python3"
  },
  "language_info": {
   "codemirror_mode": {
    "name": "ipython",
    "version": 3
   },
   "file_extension": ".py",
   "mimetype": "text/x-python",
   "name": "python",
   "nbconvert_exporter": "python",
   "pygments_lexer": "ipython3",
   "version": "3.11.5"
  }
 },
 "nbformat": 4,
 "nbformat_minor": 5
}
