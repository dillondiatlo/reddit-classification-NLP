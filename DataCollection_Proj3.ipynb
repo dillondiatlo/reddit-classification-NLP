{
 "cells": [
  {
   "cell_type": "markdown",
   "id": "a6abb5ac-f95e-4556-a6ac-483a7d303d29",
   "metadata": {},
   "source": [
    "# Project 3: Reddit\n",
    "\n",
    "**Subreddits** AskReddit, ExplainLikeIm5 ---> or maybe I do TIFU and AITAH\n",
    "* real like NLP examples:\n",
    "- 1) uses nlp to try to figure out predictors of diseases\n",
    "    - use nlp to try to figure out and classify the prevelance of a disease or not based only on text and text features of articles\n",
    "    \n",
    "- 2) has own start up in cyber security space\n",
    "    - using nlp and sentiment analysis on twitter to identify hate speech\n",
    "\n",
    "\n",
    "IDEA: I may do r/askmen and r/askwomen, and the problem statement would be something about predicting which gender, or maybe AskNYC and Ask Los Angeles, and see if there is a difference between what people are curious about for these cities?\n"
   ]
  },
  {
   "cell_type": "code",
   "execution_count": 36,
   "id": "d4bd5624-ef69-40f3-8604-427c1f47e28e",
   "metadata": {
    "tags": []
   },
   "outputs": [],
   "source": [
    "import pandas as pd\n",
    "import numpy as np\n",
    "import praw\n",
    "import SecretStuff\n",
    "import requests\n",
    "from bs4 import BeautifulSoup\n",
    "\n",
    "from SecretStuff import *"
   ]
  },
  {
   "cell_type": "code",
   "execution_count": 37,
   "id": "95e09ca1-e707-4456-a3ae-899ffa3c7fa9",
   "metadata": {
    "tags": []
   },
   "outputs": [],
   "source": [
    "reddit = praw.Reddit(\n",
    "    client_id=client_id,\n",
    "    client_secret=client_secret,\n",
    "    user_agent=user_agent,\n",
    "    username=username,\n",
    "    password=password\n",
    ")"
   ]
  },
  {
   "cell_type": "markdown",
   "id": "7e7f6d82-1637-4e5c-b0da-f7f1f2acd60a",
   "metadata": {},
   "source": [
    "# Step 1: Data Collection\n",
    "\n",
    "Using Reddit's API, I will collect data from the 2 subreddits: r/Swimming and r/running"
   ]
  },
  {
   "cell_type": "code",
   "execution_count": 38,
   "id": "58fad69a-e42d-495c-b797-19d87eebfe88",
   "metadata": {
    "tags": []
   },
   "outputs": [],
   "source": [
    "#run 1st to empty the list\n",
    "swim_list = []\n",
    "run_list = []"
   ]
  },
  {
   "cell_type": "code",
   "execution_count": 43,
   "id": "731da851-7f62-4875-b093-185be486bf03",
   "metadata": {
    "tags": []
   },
   "outputs": [],
   "source": [
    "#run 2nd to get all the data from subreddits and append to list\n",
    "swim = reddit.subreddit('Swimming')\n",
    "run = reddit.subreddit('running')\n",
    "\n",
    "posts_swim = swim.new(limit=1000)\n",
    "posts_run = run.new(limit=1000)\n",
    "\n",
    "for post in posts_swim:\n",
    "    swim_list.append([post.created_utc, post.title, post.selftext, post.subreddit])\n",
    "    \n",
    "for post in posts_run:\n",
    "    run_list.append([post.created_utc, post.title, post.selftext, post.subreddit])"
   ]
  },
  {
   "cell_type": "code",
   "execution_count": 40,
   "id": "473624a4-977f-4a48-ad74-91479c4d13b0",
   "metadata": {
    "tags": []
   },
   "outputs": [
    {
     "data": {
      "text/plain": [
       "989"
      ]
     },
     "execution_count": 40,
     "metadata": {},
     "output_type": "execute_result"
    }
   ],
   "source": [
    "len(swim_list)\n",
    "len(run_list)"
   ]
  },
  {
   "cell_type": "code",
   "execution_count": 44,
   "id": "e2b35098-76cf-4581-8dd3-f8ab901f992f",
   "metadata": {
    "tags": []
   },
   "outputs": [
    {
     "name": "stdout",
     "output_type": "stream",
     "text": [
      "(1935, 4)\n",
      "(1934, 4)\n"
     ]
    }
   ],
   "source": [
    "swim_df = pd.DataFrame(swim_list)\n",
    "run_df = pd.DataFrame(run_list)\n",
    "swim_df.drop_duplicates(inplace=True)\n",
    "run_df.drop_duplicates(inplace=True)\n",
    "print(swim_df.shape)\n",
    "print(run_df.shape)"
   ]
  },
  {
   "cell_type": "code",
   "execution_count": 45,
   "id": "9bfb0e7c-49f4-41f1-9eb2-01fbb28c3d32",
   "metadata": {
    "tags": []
   },
   "outputs": [],
   "source": [
    "swim_df.to_csv('swim feb 27.csv')\n",
    "run_df.to_csv('run feb 27.csv')"
   ]
  },
  {
   "cell_type": "code",
   "execution_count": 138,
   "id": "4c32afd2-91c4-4ea1-9ada-2b57641d62ed",
   "metadata": {
    "tags": []
   },
   "outputs": [],
   "source": [
    "#df_ask.sort_values(by='self_text')"
   ]
  },
  {
   "cell_type": "code",
   "execution_count": 139,
   "id": "fa2528a1-6bf6-4ff9-af13-6adccbb05f2d",
   "metadata": {
    "tags": []
   },
   "outputs": [],
   "source": [
    "# ask_list = []\n",
    "# eli_list = []\n",
    "# def sub_collect(sub_string, sub_list):\n",
    "#     data = reddit.subreddit(sub_string)\n",
    "#     posts = data.hot(limit=100)\n",
    "#     for post in posts:\n",
    "#         sub_list.append([post.created_utc, post.title, post.selftext, post.subreddit])\n",
    "#     return sublist, print(sub_list.size)\n",
    "#sub_collect('AskReddit', ask_list)"
   ]
  }
 ],
 "metadata": {
  "kernelspec": {
   "display_name": "Python 3 (ipykernel)",
   "language": "python",
   "name": "python3"
  },
  "language_info": {
   "codemirror_mode": {
    "name": "ipython",
    "version": 3
   },
   "file_extension": ".py",
   "mimetype": "text/x-python",
   "name": "python",
   "nbconvert_exporter": "python",
   "pygments_lexer": "ipython3",
   "version": "3.11.5"
  }
 },
 "nbformat": 4,
 "nbformat_minor": 5
}
