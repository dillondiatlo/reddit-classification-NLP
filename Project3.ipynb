{
 "cells": [
  {
   "cell_type": "markdown",
   "id": "a6abb5ac-f95e-4556-a6ac-483a7d303d29",
   "metadata": {},
   "source": [
    "# Project 3: Reddit\n",
    "\n",
    "**Subreddits** AskReddit, ExplainLikeIm5 ---> or maybe I do TIFU and AITAH\n",
    "* real like NLP examples:\n",
    "- 1) uses nlp to try to figure out predictors of diseases\n",
    "    - use nlp to try to figure out and classify the prevelance of a disease or not based only on text and text features of articles\n",
    "    \n",
    "- 2) has own start up in cyber security space\n",
    "    - using nlp and sentiment analysis on twitter to identify hate speech\n",
    "\n",
    "\n",
    "IDEA: I may do r/askmen and r/askwomen, and the problem statement would be something about predicting which gender, or maybe AskNYC and Ask Los Angeles, and see if there is a difference between what people are curious about for these cities?\n"
   ]
  },
  {
   "cell_type": "code",
   "execution_count": 50,
   "id": "d4bd5624-ef69-40f3-8604-427c1f47e28e",
   "metadata": {
    "tags": []
   },
   "outputs": [],
   "source": [
    "import pandas as pd\n",
    "import numpy as np\n",
    "import praw\n",
    "import SecretStuff\n",
    "import requests\n",
    "from bs4 import BeautifulSoup\n",
    "\n",
    "from SecretStuff import *"
   ]
  },
  {
   "cell_type": "code",
   "execution_count": 51,
   "id": "95e09ca1-e707-4456-a3ae-899ffa3c7fa9",
   "metadata": {
    "tags": []
   },
   "outputs": [],
   "source": [
    "reddit = praw.Reddit(\n",
    "    client_id=client_id,\n",
    "    client_secret=client_secret,\n",
    "    user_agent=user_agent,\n",
    "    username=username,\n",
    "    password=password\n",
    ")"
   ]
  },
  {
   "cell_type": "markdown",
   "id": "7e7f6d82-1637-4e5c-b0da-f7f1f2acd60a",
   "metadata": {},
   "source": [
    "# Step 1: Data Collection\n",
    "\n",
    "Using Reddit's API, I will collect data from the 2 subreddits: r/Swimming and r/running"
   ]
  },
  {
   "cell_type": "code",
   "execution_count": 83,
   "id": "58fad69a-e42d-495c-b797-19d87eebfe88",
   "metadata": {
    "tags": []
   },
   "outputs": [],
   "source": [
    "#run 1st to empty the list\n",
    "men_list = []\n",
    "women_list = []\n",
    "swim_list = []\n",
    "run_list = []"
   ]
  },
  {
   "cell_type": "code",
   "execution_count": 84,
   "id": "731da851-7f62-4875-b093-185be486bf03",
   "metadata": {
    "tags": []
   },
   "outputs": [],
   "source": [
    "#run 2nd to get all the data from subreddits and append to list\n",
    "swim = reddit.subreddit('Swimming')\n",
    "run = reddit.subreddit('running')\n",
    "\n",
    "posts_swim = swim.new(limit=100)\n",
    "posts_run = run.new(limit=100)\n",
    "\n",
    "for post in posts_swim:\n",
    "    swim_list.append([post.created_utc, post.title, post.selftext, post.subreddit])\n",
    "    \n",
    "for post in posts_run:\n",
    "    run_list.append([post.created_utc, post.title, post.selftext, post.subreddit])"
   ]
  },
  {
   "cell_type": "code",
   "execution_count": 87,
   "id": "473624a4-977f-4a48-ad74-91479c4d13b0",
   "metadata": {
    "tags": []
   },
   "outputs": [
    {
     "data": {
      "text/plain": [
       "100"
      ]
     },
     "execution_count": 87,
     "metadata": {},
     "output_type": "execute_result"
    }
   ],
   "source": [
    "len(swim_list)\n",
    "len(run_list)"
   ]
  },
  {
   "cell_type": "code",
   "execution_count": 90,
   "id": "e2b35098-76cf-4581-8dd3-f8ab901f992f",
   "metadata": {
    "tags": []
   },
   "outputs": [],
   "source": [
    "swim_df = pd.DataFrame(swim_list)\n",
    "run_df = pd.DataFrame(run_list)\n",
    "#swim_df.drop_duplicates(inplace=True)\n",
    "#run_df.drop_duplicates(inplace=True)\n",
    "#swim_df.head()"
   ]
  },
  {
   "cell_type": "code",
   "execution_count": 91,
   "id": "9bfb0e7c-49f4-41f1-9eb2-01fbb28c3d32",
   "metadata": {
    "tags": []
   },
   "outputs": [
    {
     "name": "stdout",
     "output_type": "stream",
     "text": [
      "               0                                                  1  \\\n",
      "0   1.708901e+09                                            Program   \n",
      "1   1.708899e+09                  Ear plugs you can still hear with   \n",
      "2   1.708899e+09  Are 24/7 pools non-existent in the UK? If so, ...   \n",
      "3   1.708894e+09                                       Head Sinking   \n",
      "4   1.708893e+09                Lower back pain from using poul boy   \n",
      "..           ...                                                ...   \n",
      "95  1.708613e+09                   is form smart swim goggles good?   \n",
      "96  1.708611e+09  Freestyle breathing, do you take water into yo...   \n",
      "97  1.708610e+09                                   Back to swimming   \n",
      "98  1.708608e+09           Thinking about joining Masters Swim team   \n",
      "99  1.708586e+09  Suyash Jadhav Secures Paris 2024 Paralympics S...   \n",
      "\n",
      "                                                    2         3  \n",
      "0   Hi I have been training HIIT swimming for the ...  Swimming  \n",
      "1   Hi! I’m having serious ear issues that are new...  Swimming  \n",
      "2   I never realized this was an issue because I'v...  Swimming  \n",
      "3   Newer freestyle swimmer. Been taking lessons. ...  Swimming  \n",
      "4   My coach made me use a poultry boy for the fir...  Swimming  \n",
      "..                                                ...       ...  \n",
      "95  I saw a lot of ads and the reviews look good (...  Swimming  \n",
      "96  I (45m) am learning how to swim.  Took lessons...  Swimming  \n",
      "97  I went swimming a few years ago a few times a ...  Swimming  \n",
      "98  I’ve been refreshing myself on strokes/swim fo...  Swimming  \n",
      "99                                                     Swimming  \n",
      "\n",
      "[100 rows x 4 columns]\n",
      "               0                                                  1  \\\n",
      "0   1.708899e+09    NYCRuns Central Park Half (My first race ever!)   \n",
      "1   1.708874e+09           Gasparilla Half Marathon (my first half)   \n",
      "2   1.708838e+09                     Massager for Glutes/Hamstrings   \n",
      "3   1.708792e+09       Running shorts with loop for stashing shirt?   \n",
      "4   1.708837e+09         Achievements for Sunday, February 25, 2024   \n",
      "..           ...                                                ...   \n",
      "95  1.707823e+09  Runners World UK announces investigation into ...   \n",
      "96  1.707811e+09                    Running 2.00.35 to honor Kiptum   \n",
      "97  1.707793e+09  Kelvin Kiptum's father implies that his son's ...   \n",
      "98  1.707824e+09  Super Moronic Monday - Your Weekly Tuesday Stu...   \n",
      "99  1.707800e+09        Achievements for Tuesday, February 13, 2024   \n",
      "\n",
      "                                                    2        3  \n",
      "0   ### Race Information\\n* **Name:** NYCRuns Cent...  running  \n",
      "1   ### Race Information\\n* **Name:** Gasparilla H...  running  \n",
      "2   Hi are there any automatic masagers for glute/...  running  \n",
      "3   I've found [Lululemon Surge shorts](https://st...  running  \n",
      "4   Hey runners, it's another day and it is time t...  running  \n",
      "..                                                ...      ...  \n",
      "95  “We are aware of an online article regarding K...  running  \n",
      "96  This Sunday I’ll be running for 2.00.35 to hon...  running  \n",
      "97  [Kelvin Kiptum's father calls for investigatio...  running  \n",
      "98  Back once again for everything you wanted to k...  running  \n",
      "99  Hey runners, it's another day and it is time t...  running  \n",
      "\n",
      "[100 rows x 4 columns]\n"
     ]
    }
   ],
   "source": [
    "print(swim_df)\n",
    "print(run_df)"
   ]
  },
  {
   "cell_type": "code",
   "execution_count": 138,
   "id": "4c32afd2-91c4-4ea1-9ada-2b57641d62ed",
   "metadata": {
    "tags": []
   },
   "outputs": [],
   "source": [
    "#df_ask.sort_values(by='self_text')"
   ]
  },
  {
   "cell_type": "code",
   "execution_count": 139,
   "id": "fa2528a1-6bf6-4ff9-af13-6adccbb05f2d",
   "metadata": {
    "tags": []
   },
   "outputs": [],
   "source": [
    "# ask_list = []\n",
    "# eli_list = []\n",
    "# def sub_collect(sub_string, sub_list):\n",
    "#     data = reddit.subreddit(sub_string)\n",
    "#     posts = data.hot(limit=100)\n",
    "#     for post in posts:\n",
    "#         sub_list.append([post.created_utc, post.title, post.selftext, post.subreddit])\n",
    "#     return sublist, print(sub_list.size)\n",
    "#sub_collect('AskReddit', ask_list)"
   ]
  }
 ],
 "metadata": {
  "kernelspec": {
   "display_name": "Python 3 (ipykernel)",
   "language": "python",
   "name": "python3"
  },
  "language_info": {
   "codemirror_mode": {
    "name": "ipython",
    "version": 3
   },
   "file_extension": ".py",
   "mimetype": "text/x-python",
   "name": "python",
   "nbconvert_exporter": "python",
   "pygments_lexer": "ipython3",
   "version": "3.11.5"
  }
 },
 "nbformat": 4,
 "nbformat_minor": 5
}
