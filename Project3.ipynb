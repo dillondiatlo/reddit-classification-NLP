{
 "cells": [
  {
   "cell_type": "code",
   "execution_count": 3,
   "id": "d4bd5624-ef69-40f3-8604-427c1f47e28e",
   "metadata": {
    "tags": []
   },
   "outputs": [],
   "source": [
    "import praw\n",
    "import SecretStuff\n",
    "\n",
    "from SecretStuff import *"
   ]
  },
  {
   "cell_type": "code",
   "execution_count": 4,
   "id": "95e09ca1-e707-4456-a3ae-899ffa3c7fa9",
   "metadata": {
    "tags": []
   },
   "outputs": [],
   "source": [
    "reddit = praw.Reddit(\n",
    "    client_id=client_id,\n",
    "    client_secret=client_secret,\n",
    "    user_agent=user_agent,\n",
    "    username=username,\n",
    "    password=password\n",
    ")"
   ]
  },
  {
   "cell_type": "code",
   "execution_count": null,
   "id": "82e3a3aa-2dcd-40a5-b280-902f1181dc4d",
   "metadata": {},
   "outputs": [],
   "source": []
  }
 ],
 "metadata": {
  "kernelspec": {
   "display_name": "Python 3 (ipykernel)",
   "language": "python",
   "name": "python3"
  },
  "language_info": {
   "codemirror_mode": {
    "name": "ipython",
    "version": 3
   },
   "file_extension": ".py",
   "mimetype": "text/x-python",
   "name": "python",
   "nbconvert_exporter": "python",
   "pygments_lexer": "ipython3",
   "version": "3.11.5"
  }
 },
 "nbformat": 4,
 "nbformat_minor": 5
}
