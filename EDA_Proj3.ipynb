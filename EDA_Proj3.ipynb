{
 "cells": [
  {
   "cell_type": "markdown",
   "id": "2e1e77b0-b6ac-4fc5-a990-c9da108097ed",
   "metadata": {},
   "source": [
    "# EDA\n",
    "\n",
    "**Problem Statement:** Build an NLP that can accurately predict if a post is from subreddit r/swimming or r/running. Evaluate the data's sentiment and determine which sub-group of athletes is happier, as well as the top 10 words/concerns respective subgroups are using most (could frame as how to speak to a swimmer or runner).\n"
   ]
  },
  {
   "cell_type": "code",
   "execution_count": 142,
   "id": "b02b98df-80bb-49f7-95d8-b545a9bc65f1",
   "metadata": {
    "tags": []
   },
   "outputs": [],
   "source": [
    "import pandas as pd\n",
    "import numpy as np\n",
    "import matplotlib.pyplot as plt\n",
    "import seaborn as sns\n",
    "\n",
    "from sklearn.model_selection import train_test_split, GridSearchCV\n",
    "from sklearn.pipeline import Pipeline\n",
    "from sklearn.feature_extraction.text import CountVectorizer, TfidfVectorizer\n",
    "from sklearn.linear_model import LogisticRegression\n",
    "from sklearn.naive_bayes import MultinomialNB\n",
    "from sklearn.metrics import confusion_matrix, ConfusionMatrixDisplay\n",
    "from nltk.corpus import stopwords\n",
    "import sys"
   ]
  },
  {
   "cell_type": "code",
   "execution_count": 118,
   "id": "c7de8626-9581-48c9-bf02-3f4576979898",
   "metadata": {
    "tags": []
   },
   "outputs": [],
   "source": [
    "#Reading in the Data\n",
    "swim1 = pd.read_csv('./swim feb 26.csv')\n",
    "swim2 = pd.read_csv('./swim feb 27.csv')\n",
    "run1 = pd.read_csv('./run feb 26.csv')\n",
    "run2 = pd.read_csv('./run feb 27.csv')"
   ]
  },
  {
   "cell_type": "code",
   "execution_count": 119,
   "id": "5d9e6e74-7482-4ed1-b85f-a22812424470",
   "metadata": {
    "tags": []
   },
   "outputs": [],
   "source": [
    "#Renaming columns and dropping unnecessary index columns\n",
    "swim1.rename(columns={'0': 'created_utc', '1': 'title', '2': 'selftext', '3': 'subreddit'}, inplace=True)\n",
    "swim2.rename(columns={'0': 'created_utc', '1': 'title', '2': 'selftext', '3': 'subreddit'}, inplace=True)\n",
    "run1.rename(columns={'0': 'created_utc', '1': 'title', '2': 'selftext', '3': 'subreddit'}, inplace=True)\n",
    "run2.rename(columns={'0': 'created_utc', '1': 'title', '2': 'selftext', '3': 'subreddit'}, inplace=True)\n",
    "swim1.drop(columns=['Unnamed: 0'], inplace=True)\n",
    "swim2.drop(columns=['Unnamed: 0'], inplace=True)\n",
    "run1.drop(columns=['Unnamed: 0'], inplace=True)\n",
    "run2.drop(columns=['Unnamed: 0'], inplace=True)"
   ]
  },
  {
   "cell_type": "code",
   "execution_count": 120,
   "id": "09ba25fc-ca06-4568-91aa-ca11c526c40f",
   "metadata": {
    "tags": []
   },
   "outputs": [
    {
     "name": "stdout",
     "output_type": "stream",
     "text": [
      "(1987, 4) (1935, 4)\n",
      "(1979, 4) (1934, 4)\n"
     ]
    }
   ],
   "source": [
    "#checking shape to drop the columns\n",
    "print(swim1.shape, swim2.shape)\n",
    "print(run1.shape, run2.shape)"
   ]
  },
  {
   "cell_type": "code",
   "execution_count": 121,
   "id": "9cc8ed88-084b-417a-bdcf-41f269df595a",
   "metadata": {
    "tags": []
   },
   "outputs": [
    {
     "name": "stdout",
     "output_type": "stream",
     "text": [
      "(3922, 4) (3913, 4)\n"
     ]
    }
   ],
   "source": [
    "#creating separate, single swim and run dataframes\n",
    "swim_all = pd.concat([swim1, swim2], axis=0)\n",
    "run_all = pd.concat([run1, run2], axis=0)\n",
    "print(swim_all.shape, run_all.shape)"
   ]
  },
  {
   "cell_type": "code",
   "execution_count": 122,
   "id": "04de235a-d1b9-4cdf-ba3d-d44b62716043",
   "metadata": {
    "tags": []
   },
   "outputs": [
    {
     "name": "stdout",
     "output_type": "stream",
     "text": [
      "(2001, 4) (1800, 4)\n"
     ]
    }
   ],
   "source": [
    "#dropping rows if they appear as duplicates in 'title' column\n",
    "swim_all.drop_duplicates(subset=['title'], inplace=True)\n",
    "run_all.drop_duplicates(subset=['title'], inplace=True)\n",
    "print(swim_all.shape, run_all.shape)"
   ]
  },
  {
   "cell_type": "code",
   "execution_count": 123,
   "id": "288e6710-8e7a-4db9-99a3-3dde2eb8a3dd",
   "metadata": {
    "tags": []
   },
   "outputs": [
    {
     "data": {
      "text/plain": [
       "(3801, 4)"
      ]
     },
     "execution_count": 123,
     "metadata": {},
     "output_type": "execute_result"
    }
   ],
   "source": [
    "#creating one dataframe of all the data\n",
    "full = pd.concat([swim_all, run_all], axis=0)\n",
    "full.shape"
   ]
  },
  {
   "cell_type": "code",
   "execution_count": 124,
   "id": "9f8e7154-3d82-474e-a13e-766c154c5a6b",
   "metadata": {
    "tags": []
   },
   "outputs": [
    {
     "data": {
      "text/plain": [
       "created_utc       0\n",
       "title             0\n",
       "selftext       1054\n",
       "subreddit         0\n",
       "dtype: int64"
      ]
     },
     "execution_count": 124,
     "metadata": {},
     "output_type": "execute_result"
    }
   ],
   "source": [
    "full.isna().sum()"
   ]
  },
  {
   "cell_type": "code",
   "execution_count": 125,
   "id": "0a03045c-0715-468a-923c-3777b0a6b78d",
   "metadata": {
    "tags": []
   },
   "outputs": [
    {
     "data": {
      "text/plain": [
       "created_utc    float64\n",
       "title           object\n",
       "selftext        object\n",
       "subreddit       object\n",
       "dtype: object"
      ]
     },
     "execution_count": 125,
     "metadata": {},
     "output_type": "execute_result"
    }
   ],
   "source": [
    "full.dtypes"
   ]
  },
  {
   "cell_type": "code",
   "execution_count": 126,
   "id": "dd646539-ef55-42ab-80b2-e2c22bdfa74b",
   "metadata": {
    "tags": []
   },
   "outputs": [
    {
     "data": {
      "text/plain": [
       "Index(['created_utc', 'title', 'selftext', 'subreddit'], dtype='object')"
      ]
     },
     "execution_count": 126,
     "metadata": {},
     "output_type": "execute_result"
    }
   ],
   "source": [
    "full.columns"
   ]
  },
  {
   "cell_type": "code",
   "execution_count": 127,
   "id": "a6742b96-bb86-4c8d-84ee-60fc4be4287a",
   "metadata": {
    "tags": []
   },
   "outputs": [
    {
     "data": {
      "text/plain": [
       "subreddit\n",
       "Swimming    2001\n",
       "running     1800\n",
       "Name: count, dtype: int64"
      ]
     },
     "execution_count": 127,
     "metadata": {},
     "output_type": "execute_result"
    }
   ],
   "source": [
    "#Checking balance\n",
    "full.subreddit.value_counts()"
   ]
  },
  {
   "cell_type": "code",
   "execution_count": 128,
   "id": "f3a9d28f-5e79-4b03-b6d3-a893553a77ab",
   "metadata": {
    "tags": []
   },
   "outputs": [],
   "source": [
    "full['subreddit'] = full['subreddit'].map({'running': 0, 'Swimming': 1})"
   ]
  },
  {
   "cell_type": "code",
   "execution_count": 154,
   "id": "b60fbd36-1a2a-49da-8cd3-0734f3c466a2",
   "metadata": {
    "tags": []
   },
   "outputs": [
    {
     "data": {
      "text/html": [
       "<div>\n",
       "<style scoped>\n",
       "    .dataframe tbody tr th:only-of-type {\n",
       "        vertical-align: middle;\n",
       "    }\n",
       "\n",
       "    .dataframe tbody tr th {\n",
       "        vertical-align: top;\n",
       "    }\n",
       "\n",
       "    .dataframe thead th {\n",
       "        text-align: right;\n",
       "    }\n",
       "</style>\n",
       "<table border=\"1\" class=\"dataframe\">\n",
       "  <thead>\n",
       "    <tr style=\"text-align: right;\">\n",
       "      <th></th>\n",
       "      <th>created_utc</th>\n",
       "      <th>title</th>\n",
       "      <th>selftext</th>\n",
       "      <th>subreddit</th>\n",
       "    </tr>\n",
       "  </thead>\n",
       "  <tbody>\n",
       "    <tr>\n",
       "      <th>0</th>\n",
       "      <td>1.708961e+09</td>\n",
       "      <td>Could you recommend home gym equipment for Sma...</td>\n",
       "      <td>I am a 90kg man but quite weak, I always feel ...</td>\n",
       "      <td>1</td>\n",
       "    </tr>\n",
       "    <tr>\n",
       "      <th>1</th>\n",
       "      <td>1.708957e+09</td>\n",
       "      <td>Attire</td>\n",
       "      <td>The pool I go to doesn’t really care what peop...</td>\n",
       "      <td>1</td>\n",
       "    </tr>\n",
       "    <tr>\n",
       "      <th>2</th>\n",
       "      <td>1.708954e+09</td>\n",
       "      <td>Swam my first km, how to keep it up and improve?</td>\n",
       "      <td>Hi everyone,\\n\\nI'm in my early thirties and w...</td>\n",
       "      <td>1</td>\n",
       "    </tr>\n",
       "    <tr>\n",
       "      <th>3</th>\n",
       "      <td>1.708952e+09</td>\n",
       "      <td>Can anyone please tell me the name of the tech...</td>\n",
       "      <td>NaN</td>\n",
       "      <td>1</td>\n",
       "    </tr>\n",
       "    <tr>\n",
       "      <th>4</th>\n",
       "      <td>1.708952e+09</td>\n",
       "      <td>Y Nationals</td>\n",
       "      <td>We are headed to Greensboro for Ynats.  There ...</td>\n",
       "      <td>1</td>\n",
       "    </tr>\n",
       "  </tbody>\n",
       "</table>\n",
       "</div>"
      ],
      "text/plain": [
       "    created_utc                                              title  \\\n",
       "0  1.708961e+09  Could you recommend home gym equipment for Sma...   \n",
       "1  1.708957e+09                                             Attire   \n",
       "2  1.708954e+09   Swam my first km, how to keep it up and improve?   \n",
       "3  1.708952e+09  Can anyone please tell me the name of the tech...   \n",
       "4  1.708952e+09                                        Y Nationals   \n",
       "\n",
       "                                            selftext  subreddit  \n",
       "0  I am a 90kg man but quite weak, I always feel ...          1  \n",
       "1  The pool I go to doesn’t really care what peop...          1  \n",
       "2  Hi everyone,\\n\\nI'm in my early thirties and w...          1  \n",
       "3                                                NaN          1  \n",
       "4  We are headed to Greensboro for Ynats.  There ...          1  "
      ]
     },
     "execution_count": 154,
     "metadata": {},
     "output_type": "execute_result"
    }
   ],
   "source": [
    "full.head()"
   ]
  },
  {
   "cell_type": "code",
   "execution_count": 156,
   "id": "3074db5b-a71a-4e7f-ae53-c52c202195f6",
   "metadata": {
    "tags": []
   },
   "outputs": [
    {
     "data": {
      "text/plain": [
       "1054"
      ]
     },
     "execution_count": 156,
     "metadata": {},
     "output_type": "execute_result"
    }
   ],
   "source": [
    "full['selftext'].isna().sum()"
   ]
  },
  {
   "cell_type": "code",
   "execution_count": 157,
   "id": "00e8d601-102e-4c1a-9d83-a34c5af1d47e",
   "metadata": {
    "tags": []
   },
   "outputs": [
    {
     "data": {
      "text/plain": [
       "(3801, 4)"
      ]
     },
     "execution_count": 157,
     "metadata": {},
     "output_type": "execute_result"
    }
   ],
   "source": [
    "full.shape"
   ]
  },
  {
   "cell_type": "code",
   "execution_count": 144,
   "id": "2d014a62-eaf0-43b5-88ce-b0b66ddc0a23",
   "metadata": {
    "tags": []
   },
   "outputs": [],
   "source": [
    "#Assign ----> Ask Rowan or Tim if I can do this with multiple columns or if it needs to be a single\n",
    "X = full['title']\n",
    "y = full['subreddit']\n",
    "\n",
    "#Split\n",
    "X_train, X_test, y_train, y_test = train_test_split(X, y, random_state=2024)"
   ]
  },
  {
   "cell_type": "code",
   "execution_count": 145,
   "id": "ebbe85ff-f3c7-41e0-a420-460e27695651",
   "metadata": {
    "tags": []
   },
   "outputs": [],
   "source": [
    "sw = stopwords.words('english')\n",
    "\n",
    "#Instantiating CountVectorizer\n",
    "cvec = CountVectorizer(stop_words=sw)\n",
    "\n",
    "#Fitting to corpus\n",
    "cvec.fit(X_train)\n",
    "\n",
    "#Transforming\n",
    "X_train_cv = cvec.transform(X_train)\n",
    "X_test_cv = cvec.transform(X_test)"
   ]
  },
  {
   "cell_type": "code",
   "execution_count": 146,
   "id": "0827de69-da5e-4858-9876-4b4f1f0dca61",
   "metadata": {
    "tags": []
   },
   "outputs": [
    {
     "data": {
      "text/plain": [
       "(2850, 4425)"
      ]
     },
     "execution_count": 146,
     "metadata": {},
     "output_type": "execute_result"
    }
   ],
   "source": [
    "X_train_cv.shape"
   ]
  },
  {
   "cell_type": "code",
   "execution_count": 147,
   "id": "0c7b0ba2-1442-48b2-8db6-e0abe5944eb1",
   "metadata": {
    "tags": []
   },
   "outputs": [
    {
     "data": {
      "text/html": [
       "<div>\n",
       "<style scoped>\n",
       "    .dataframe tbody tr th:only-of-type {\n",
       "        vertical-align: middle;\n",
       "    }\n",
       "\n",
       "    .dataframe tbody tr th {\n",
       "        vertical-align: top;\n",
       "    }\n",
       "\n",
       "    .dataframe thead th {\n",
       "        text-align: right;\n",
       "    }\n",
       "</style>\n",
       "<table border=\"1\" class=\"dataframe\">\n",
       "  <thead>\n",
       "    <tr style=\"text-align: right;\">\n",
       "      <th></th>\n",
       "      <th>00</th>\n",
       "      <th>000</th>\n",
       "      <th>000m</th>\n",
       "      <th>00s</th>\n",
       "      <th>01</th>\n",
       "      <th>01h</th>\n",
       "      <th>02</th>\n",
       "      <th>03</th>\n",
       "      <th>04</th>\n",
       "      <th>05</th>\n",
       "      <th>...</th>\n",
       "      <th>zheng</th>\n",
       "      <th>zippers</th>\n",
       "      <th>zipup</th>\n",
       "      <th>zone</th>\n",
       "      <th>zone3</th>\n",
       "      <th>zones</th>\n",
       "      <th>zoological</th>\n",
       "      <th>zoom</th>\n",
       "      <th>zumba</th>\n",
       "      <th>zygo</th>\n",
       "    </tr>\n",
       "  </thead>\n",
       "  <tbody>\n",
       "    <tr>\n",
       "      <th>0</th>\n",
       "      <td>0</td>\n",
       "      <td>0</td>\n",
       "      <td>0</td>\n",
       "      <td>0</td>\n",
       "      <td>0</td>\n",
       "      <td>0</td>\n",
       "      <td>0</td>\n",
       "      <td>0</td>\n",
       "      <td>0</td>\n",
       "      <td>0</td>\n",
       "      <td>...</td>\n",
       "      <td>0</td>\n",
       "      <td>0</td>\n",
       "      <td>0</td>\n",
       "      <td>0</td>\n",
       "      <td>0</td>\n",
       "      <td>0</td>\n",
       "      <td>0</td>\n",
       "      <td>0</td>\n",
       "      <td>0</td>\n",
       "      <td>0</td>\n",
       "    </tr>\n",
       "    <tr>\n",
       "      <th>1</th>\n",
       "      <td>0</td>\n",
       "      <td>0</td>\n",
       "      <td>0</td>\n",
       "      <td>0</td>\n",
       "      <td>0</td>\n",
       "      <td>0</td>\n",
       "      <td>0</td>\n",
       "      <td>0</td>\n",
       "      <td>0</td>\n",
       "      <td>0</td>\n",
       "      <td>...</td>\n",
       "      <td>0</td>\n",
       "      <td>0</td>\n",
       "      <td>0</td>\n",
       "      <td>0</td>\n",
       "      <td>0</td>\n",
       "      <td>0</td>\n",
       "      <td>0</td>\n",
       "      <td>0</td>\n",
       "      <td>0</td>\n",
       "      <td>0</td>\n",
       "    </tr>\n",
       "    <tr>\n",
       "      <th>2</th>\n",
       "      <td>0</td>\n",
       "      <td>0</td>\n",
       "      <td>0</td>\n",
       "      <td>0</td>\n",
       "      <td>0</td>\n",
       "      <td>0</td>\n",
       "      <td>0</td>\n",
       "      <td>0</td>\n",
       "      <td>0</td>\n",
       "      <td>0</td>\n",
       "      <td>...</td>\n",
       "      <td>0</td>\n",
       "      <td>0</td>\n",
       "      <td>0</td>\n",
       "      <td>0</td>\n",
       "      <td>0</td>\n",
       "      <td>0</td>\n",
       "      <td>0</td>\n",
       "      <td>0</td>\n",
       "      <td>0</td>\n",
       "      <td>0</td>\n",
       "    </tr>\n",
       "    <tr>\n",
       "      <th>3</th>\n",
       "      <td>0</td>\n",
       "      <td>0</td>\n",
       "      <td>0</td>\n",
       "      <td>0</td>\n",
       "      <td>0</td>\n",
       "      <td>0</td>\n",
       "      <td>0</td>\n",
       "      <td>0</td>\n",
       "      <td>0</td>\n",
       "      <td>0</td>\n",
       "      <td>...</td>\n",
       "      <td>0</td>\n",
       "      <td>0</td>\n",
       "      <td>0</td>\n",
       "      <td>0</td>\n",
       "      <td>0</td>\n",
       "      <td>0</td>\n",
       "      <td>0</td>\n",
       "      <td>0</td>\n",
       "      <td>0</td>\n",
       "      <td>0</td>\n",
       "    </tr>\n",
       "    <tr>\n",
       "      <th>4</th>\n",
       "      <td>0</td>\n",
       "      <td>0</td>\n",
       "      <td>0</td>\n",
       "      <td>0</td>\n",
       "      <td>0</td>\n",
       "      <td>0</td>\n",
       "      <td>0</td>\n",
       "      <td>0</td>\n",
       "      <td>0</td>\n",
       "      <td>0</td>\n",
       "      <td>...</td>\n",
       "      <td>0</td>\n",
       "      <td>0</td>\n",
       "      <td>0</td>\n",
       "      <td>0</td>\n",
       "      <td>0</td>\n",
       "      <td>0</td>\n",
       "      <td>0</td>\n",
       "      <td>0</td>\n",
       "      <td>0</td>\n",
       "      <td>0</td>\n",
       "    </tr>\n",
       "  </tbody>\n",
       "</table>\n",
       "<p>5 rows × 4425 columns</p>\n",
       "</div>"
      ],
      "text/plain": [
       "   00  000  000m  00s  01  01h  02  03  04  05  ...  zheng  zippers  zipup  \\\n",
       "0   0    0     0    0   0    0   0   0   0   0  ...      0        0      0   \n",
       "1   0    0     0    0   0    0   0   0   0   0  ...      0        0      0   \n",
       "2   0    0     0    0   0    0   0   0   0   0  ...      0        0      0   \n",
       "3   0    0     0    0   0    0   0   0   0   0  ...      0        0      0   \n",
       "4   0    0     0    0   0    0   0   0   0   0  ...      0        0      0   \n",
       "\n",
       "   zone  zone3  zones  zoological  zoom  zumba  zygo  \n",
       "0     0      0      0           0     0      0     0  \n",
       "1     0      0      0           0     0      0     0  \n",
       "2     0      0      0           0     0      0     0  \n",
       "3     0      0      0           0     0      0     0  \n",
       "4     0      0      0           0     0      0     0  \n",
       "\n",
       "[5 rows x 4425 columns]"
      ]
     },
     "execution_count": 147,
     "metadata": {},
     "output_type": "execute_result"
    }
   ],
   "source": [
    "#Making X_train_cvec into a dataframe\n",
    "\n",
    "X_train_df = pd.DataFrame(\n",
    "    X_train_cv.toarray(), \n",
    "    columns=cvec.get_feature_names_out()\n",
    ")\n",
    "X_train_df.head()"
   ]
  },
  {
   "cell_type": "code",
   "execution_count": 158,
   "id": "e43bb06c-d3eb-4438-b36c-b648573fe9d6",
   "metadata": {
    "tags": []
   },
   "outputs": [
    {
     "data": {
      "text/plain": [
       "running         305\n",
       "swimming        284\n",
       "first           252\n",
       "marathon        244\n",
       "swim            222\n",
       "run             183\n",
       "time            134\n",
       "2024            122\n",
       "today           118\n",
       "2023            107\n",
       "pool            103\n",
       "race            101\n",
       "half             96\n",
       "achievements     96\n",
       "ran              94\n",
       "year             88\n",
       "official         80\n",
       "anyone           79\n",
       "water            78\n",
       "100              72\n",
       "dtype: int64"
      ]
     },
     "execution_count": 158,
     "metadata": {},
     "output_type": "execute_result"
    }
   ],
   "source": [
    "top_full = X_train_df.sum().sort_values(ascending=False).head(20)"
   ]
  },
  {
   "cell_type": "code",
   "execution_count": 177,
   "id": "51f0a2ba-373e-4bb6-8f0f-22483b61b195",
   "metadata": {
    "tags": []
   },
   "outputs": [],
   "source": [
    "swim_mask = full[full['subreddit'] == 1]\n",
    "X2 = swim_mask['title']\n",
    "\n",
    "cvec = CountVectorizer(stop_words=sw)\n",
    "cvec.fit(X2)\n",
    "\n",
    "#Transforming\n",
    "X2_cv = cvec.transform(X2)\n",
    "X2_cv_df = pd.DataFrame(\n",
    "    X2_cv.todense(),\n",
    "    columns=cvec.get_feature_names_out()\n",
    ")"
   ]
  },
  {
   "cell_type": "code",
   "execution_count": 178,
   "id": "882fe4d6-1154-4ade-91bb-68b555e800eb",
   "metadata": {
    "tags": []
   },
   "outputs": [
    {
     "data": {
      "text/plain": [
       "<Axes: >"
      ]
     },
     "execution_count": 178,
     "metadata": {},
     "output_type": "execute_result"
    },
    {
     "data": {
      "image/png": "[encoded data removed]",
      "text/plain": [
       "<Figure size 640x480 with 1 Axes>"
      ]
     },
     "metadata": {},
     "output_type": "display_data"
    }
   ],
   "source": [
    "# plt.figure(figsize=(12,5))\n",
    "# plt.barh(swim_mask.index, swim_mask, color='goldenrod');\n",
    "X2_cv_df.sum().sort_values(ascending=False).head(25).plot(kind='barh')"
   ]
  },
  {
   "cell_type": "code",
   "execution_count": 180,
   "id": "52f822af-29ce-4b2e-8ef1-9bceb471a2bb",
   "metadata": {
    "tags": []
   },
   "outputs": [
    {
     "data": {
      "text/plain": [
       "<Axes: >"
      ]
     },
     "execution_count": 180,
     "metadata": {},
     "output_type": "execute_result"
    },
    {
     "data": {
      "image/png": "[encoded data removed]",
      "text/plain": [
       "<Figure size 640x480 with 1 Axes>"
      ]
     },
     "metadata": {},
     "output_type": "display_data"
    }
   ],
   "source": [
    "run_mask = full[full['subreddit'] == 0]\n",
    "X2 = run_mask['title']\n",
    "\n",
    "cvec = CountVectorizer(stop_words=sw)\n",
    "cvec.fit(X2)\n",
    "\n",
    "#Transforming\n",
    "X2_cv = cvec.transform(X2)\n",
    "X2_cv_df = pd.DataFrame(\n",
    "    X2_cv.todense(),\n",
    "    columns=cvec.get_feature_names_out()\n",
    ")\n",
    "X2_cv_df.sum().sort_values(ascending=False).head(25).plot(kind='barh')"
   ]
  },
  {
   "cell_type": "markdown",
   "id": "346dc1ff-39ae-44d7-9e70-b7a19b716d68",
   "metadata": {},
   "source": [
    "To Do Next:\n",
    "* train predictive model to be able to tell which subreddit\n",
    "* Do sentiment analysis to see who is happier"
   ]
  },
  {
   "cell_type": "code",
   "execution_count": null,
   "id": "c2b7556b-0999-4803-9a2c-1d4f3598619f",
   "metadata": {},
   "outputs": [],
   "source": []
  }
 ],
 "metadata": {
  "kernelspec": {
   "display_name": "Python 3 (ipykernel)",
   "language": "python",
   "name": "python3"
  },
  "language_info": {
   "codemirror_mode": {
    "name": "ipython",
    "version": 3
   },
   "file_extension": ".py",
   "mimetype": "text/x-python",
   "name": "python",
   "nbconvert_exporter": "python",
   "pygments_lexer": "ipython3",
   "version": "3.11.5"
  }
 },
 "nbformat": 4,
 "nbformat_minor": 5
}
