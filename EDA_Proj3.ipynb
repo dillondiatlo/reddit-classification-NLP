{
 "cells": [
  {
   "cell_type": "markdown",
   "id": "2e1e77b0-b6ac-4fc5-a990-c9da108097ed",
   "metadata": {},
   "source": [
    "# EDA\n",
    "\n",
    "**Problem Statement:** Build an NLP that can accurately predict if a post is from subreddit r/swimming or r/running. Evaluate the data's sentiment and determine which sub-group of athletes is happier, as well as the top 10 words/concerns respective subgroups are using most (could frame as how to speak to a swimmer or runner).\n"
   ]
  },
  {
   "cell_type": "code",
   "execution_count": null,
   "id": "b02b98df-80bb-49f7-95d8-b545a9bc65f1",
   "metadata": {},
   "outputs": [],
   "source": [
    "import pandas as pd\n",
    "import numpy as np\n",
    "import matplotlib.pyplot as plt\n",
    "import seaborn as sns\n",
    "\n"
   ]
  }
 ],
 "metadata": {
  "kernelspec": {
   "display_name": "Python 3 (ipykernel)",
   "language": "python",
   "name": "python3"
  },
  "language_info": {
   "codemirror_mode": {
    "name": "ipython",
    "version": 3
   },
   "file_extension": ".py",
   "mimetype": "text/x-python",
   "name": "python",
   "nbconvert_exporter": "python",
   "pygments_lexer": "ipython3",
   "version": "3.11.5"
  }
 },
 "nbformat": 4,
 "nbformat_minor": 5
}
